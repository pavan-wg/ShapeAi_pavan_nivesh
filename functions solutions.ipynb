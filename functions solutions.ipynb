{
  "nbformat": 4,
  "nbformat_minor": 0,
  "metadata": {
    "colab": {
      "provenance": [],
      "authorship_tag": "ABX9TyPIKhuSMgE2I5qbQPuR792p",
      "include_colab_link": true
    },
    "kernelspec": {
      "name": "python3",
      "display_name": "Python 3"
    },
    "language_info": {
      "name": "python"
    }
  },
  "cells": [
    {
      "cell_type": "markdown",
      "metadata": {
        "id": "view-in-github",
        "colab_type": "text"
      },
      "source": [
        "<a href=\"https://colab.research.google.com/github/pavan-wg/ShapeAi_pavan_nivesh/blob/main/functions%20solutions.ipynb\" target=\"_parent\"><img src=\"https://colab.research.google.com/assets/colab-badge.svg\" alt=\"Open In Colab\"/></a>"
      ]
    },
    {
      "cell_type": "code",
      "execution_count": 4,
      "metadata": {
        "colab": {
          "base_uri": "https://localhost:8080/"
        },
        "id": "4upb-hJr0hkA",
        "outputId": "a9c6773a-d89f-40e6-d8d1-d518467cb883"
      },
      "outputs": [
        {
          "output_type": "execute_result",
          "data": {
            "text/plain": [
              "False"
            ]
          },
          "metadata": {},
          "execution_count": 4
        }
      ],
      "source": [
        "def almost_there(n):\n",
        "  if n in range(90,111):\n",
        "    return True\n",
        "  elif n in range(190,211):\n",
        "    return True\n",
        "  else:\n",
        "    return False\n",
        "almost_there(211)"
      ]
    },
    {
      "cell_type": "code",
      "source": [
        "def has_33(nums):\n",
        "  for items in range(len(nums)):\n",
        "    if (nums[items]==3 and nums[items+1] ==3):\n",
        "      return True\n",
        "has_33([1, 3, 3])\n",
        ""
      ],
      "metadata": {
        "colab": {
          "base_uri": "https://localhost:8080/"
        },
        "id": "Y9mhmzyo32Ui",
        "outputId": "9073932f-61ad-4bdc-ffe0-4c643f1ac7e0"
      },
      "execution_count": 20,
      "outputs": [
        {
          "output_type": "execute_result",
          "data": {
            "text/plain": [
              "True"
            ]
          },
          "metadata": {},
          "execution_count": 20
        }
      ]
    },
    {
      "cell_type": "code",
      "source": [
        "def paper_doll(text):\n",
        "  mylist=list(text)\n",
        "  new_list=[]\n",
        "  for char in mylist:\n",
        "    y=char*3\n",
        "    new_list.append(y)\n",
        "  return \"\".join(new_list)\n",
        "paper_doll('Mississippi')"
      ],
      "metadata": {
        "colab": {
          "base_uri": "https://localhost:8080/",
          "height": 35
        },
        "id": "r3IV3zpT8MFr",
        "outputId": "2ed1460d-8fd9-4122-b10a-5e6165ac2e29"
      },
      "execution_count": 32,
      "outputs": [
        {
          "output_type": "execute_result",
          "data": {
            "text/plain": [
              "'MMMiiissssssiiissssssiiippppppiii'"
            ],
            "application/vnd.google.colaboratory.intrinsic+json": {
              "type": "string"
            }
          },
          "metadata": {},
          "execution_count": 32
        }
      ]
    },
    {
      "cell_type": "code",
      "source": [
        "def blackjack(a,b,c):\n",
        "  if (a+b+c)<=21:\n",
        "    return a+b+c\n",
        "  elif (a+b+c>21) and 11 in (a,b,c):\n",
        "    return (a+b+c)-10\n",
        "  else:\n",
        "    print(\"BUST\")\n",
        "blackjack(5,6,11)"
      ],
      "metadata": {
        "colab": {
          "base_uri": "https://localhost:8080/"
        },
        "id": "KdUKM_57-_Yy",
        "outputId": "724c59b5-4671-424f-c7a5-5220caee5ead"
      },
      "execution_count": 41,
      "outputs": [
        {
          "output_type": "execute_result",
          "data": {
            "text/plain": [
              "12"
            ]
          },
          "metadata": {},
          "execution_count": 41
        }
      ]
    },
    {
      "cell_type": "code",
      "source": [
        "def summer_69(arr):\n",
        "  sumf=0\n",
        "  sum1=0\n",
        "  for items in range(len(arr)):\n",
        "      if arr[items]==6:\n",
        "        sum1=arr[:items]\n",
        "        sumf=sum(sum1)\n",
        "      elif arr[items]==9:\n",
        "        sum2=arr[items+1:]\n",
        "        sumx=sum(sum2)\n",
        "  return sumf+sumx\n",
        "summer_69([2, 1, 6, 9, 11])\n",
        "\n",
        ""
      ],
      "metadata": {
        "colab": {
          "base_uri": "https://localhost:8080/"
        },
        "id": "U22wslrhIH7N",
        "outputId": "9a7c6d93-36f0-4505-f1aa-6b34bd177fa4"
      },
      "execution_count": 62,
      "outputs": [
        {
          "output_type": "execute_result",
          "data": {
            "text/plain": [
              "14"
            ]
          },
          "metadata": {},
          "execution_count": 62
        }
      ]
    },
    {
      "cell_type": "code",
      "source": [],
      "metadata": {
        "id": "PfCEGyvbKBvt"
      },
      "execution_count": null,
      "outputs": []
    },
    {
      "cell_type": "code",
      "source": [],
      "metadata": {
        "id": "g-k1orRL_5E9"
      },
      "execution_count": null,
      "outputs": []
    }
  ]
}